{
 "cells": [
  {
   "cell_type": "code",
   "execution_count": 6,
   "id": "a45539c7-1187-457e-a8e5-5488437843dc",
   "metadata": {},
   "outputs": [],
   "source": [
    "from dotenv import load_dotenv\n",
    "import os\n",
    "import langchain\n",
    "from langchain_google_genai import ChatGoogleGenerativeAI\n"
   ]
  },
  {
   "cell_type": "markdown",
   "id": "531e8380-c30a-41d7-93b6-f9d946d302c6",
   "metadata": {},
   "source": [
    "## API Key Setup and Verification"
   ]
  },
  {
   "cell_type": "code",
   "execution_count": 7,
   "id": "c04b8884-9ea7-4965-8085-c83a6b3445f2",
   "metadata": {},
   "outputs": [
    {
     "data": {
      "text/plain": [
       "True"
      ]
     },
     "execution_count": 7,
     "metadata": {},
     "output_type": "execute_result"
    }
   ],
   "source": [
    "load_dotenv()"
   ]
  },
  {
   "cell_type": "code",
   "execution_count": 10,
   "id": "021d03d4-7fef-4c05-aa34-a97370728c24",
   "metadata": {},
   "outputs": [
    {
     "name": "stdout",
     "output_type": "stream",
     "text": [
      "content=\"Why don't scientists trust atoms?\\n\\nBecause they make up everything!\" additional_kwargs={} response_metadata={'prompt_feedback': {'block_reason': 0, 'safety_ratings': []}, 'finish_reason': 'STOP', 'safety_ratings': []} id='run--48896eb8-321d-44d9-821f-8483efd9c294-0' usage_metadata={'input_tokens': 4, 'output_tokens': 16, 'total_tokens': 20, 'input_token_details': {'cache_read': 0}}\n"
     ]
    }
   ],
   "source": [
    "llm = ChatGoogleGenerativeAI(model=\"gemini-2.0-flash-001\")\n",
    "llm_response = llm.invoke(\"Tell me a joke\")\n",
    "print(llm_response)\n"
   ]
  },
  {
   "cell_type": "markdown",
   "id": "552ac52e-a12c-430e-a77a-d77ee7cdfbd6",
   "metadata": {},
   "source": [
    "## Output Parser"
   ]
  },
  {
   "cell_type": "code",
   "execution_count": 11,
   "id": "09d694a1-99b1-42f5-83da-a1b7c48a258b",
   "metadata": {},
   "outputs": [],
   "source": [
    "from langchain_core.output_parsers import StrOutputParser"
   ]
  },
  {
   "cell_type": "code",
   "execution_count": 12,
   "id": "ac93b974-2133-4b84-8583-527c8a81d4ef",
   "metadata": {},
   "outputs": [
    {
     "data": {
      "text/plain": [
       "\"Why don't scientists trust atoms?\\n\\nBecause they make up everything!\""
      ]
     },
     "execution_count": 12,
     "metadata": {},
     "output_type": "execute_result"
    }
   ],
   "source": [
    "output_parser = StrOutputParser()\n",
    "output_parser.invoke(llm_response)"
   ]
  },
  {
   "cell_type": "markdown",
   "id": "ed120e2a-4fcf-4c90-a6da-91a44054a5b4",
   "metadata": {},
   "source": [
    "## Simple Chain\n"
   ]
  },
  {
   "cell_type": "code",
   "execution_count": 13,
   "id": "b1f61f28-b7b8-477b-b369-3a2784e6a24d",
   "metadata": {},
   "outputs": [],
   "source": [
    "chain = llm | output_parser"
   ]
  },
  {
   "cell_type": "code",
   "execution_count": 14,
   "id": "a26fa76b-6a74-4b92-9025-ffcee33ca957",
   "metadata": {},
   "outputs": [
    {
     "data": {
      "text/plain": [
       "\"Okay, here's a fact about the Sun:\\n\\nThe Sun is actually a pretty average star! While it's obviously crucial to us, in the grand scheme of the universe, it's a relatively common type of star called a G-type main-sequence star (also known as a yellow dwarf). It's not particularly massive, hot, or bright compared to many other stars out there. This is actually a good thing for us, as more massive and energetic stars have much shorter lifespans and wouldn't be suitable for supporting life for billions of years.\""
      ]
     },
     "execution_count": 14,
     "metadata": {},
     "output_type": "execute_result"
    }
   ],
   "source": [
    "chain.invoke(\"Tell me something about sun\")"
   ]
  },
  {
   "cell_type": "markdown",
   "id": "4ce49d4f-6706-434f-a736-45f9c3836a29",
   "metadata": {},
   "source": [
    "## Structured Output\n"
   ]
  },
  {
   "cell_type": "code",
   "execution_count": 15,
   "id": "9f9f70d5-84a9-4984-92b1-9c058eacd54e",
   "metadata": {},
   "outputs": [
    {
     "data": {
      "text/plain": [
       "MobileReview(phone_model='Galaxy S21', rating=4.0, pros=['Gorgeous screen', 'Insane camera', 'Solid battery life'], cons=['Pricey', 'No charger', 'Accidental Bixby presses'], summary=\"Great phone, but a few annoying quirks keep it from being perfect. If you're due for an upgrade, definitely worth checking out!\")"
      ]
     },
     "execution_count": 15,
     "metadata": {},
     "output_type": "execute_result"
    }
   ],
   "source": [
    "from typing import List\n",
    "from pydantic import BaseModel, Field\n",
    "\n",
    "class MobileReview(BaseModel):\n",
    "    phone_model: str = Field(description=\"Name and model of the phone  '\\n'\")\n",
    "    rating: float = Field(description=\"Overall rating out of 5\")\n",
    "    pros: List[str] = Field(description=\"List of positive aspects\")\n",
    "    cons: List[str] = Field(description=\"List of negative aspects\")\n",
    "    summary: str = Field(description=\"Brief summary of the review\")\n",
    "\n",
    "review_text = \"\"\"\n",
    "Just got my hands on the new Galaxy S21 and wow, this thing is slick! The screen is gorgeous,\n",
    "colors pop like crazy. Camera's insane too, especially at night - my Insta game's never been\n",
    "stronger. Battery life's solid, lasts me all day no problem.\n",
    "Not gonna lie though, it's pretty pricey. And what's with ditching the charger? C'mon Samsung.\n",
    "Also, still getting used to the new button layout, keep hitting Bixby by mistake.\n",
    "Overall, I'd say it's a solid 4 out of 5. Great phone, but a few annoying quirks keep it from\n",
    "being perfect. If you're due for an upgrade, definitely worth checking out!\n",
    "\"\"\"\n",
    "\n",
    "structured_llm = llm.with_structured_output(MobileReview)\n",
    "output = structured_llm.invoke(review_text)\n",
    "output\n"
   ]
  },
  {
   "cell_type": "code",
   "execution_count": 16,
   "id": "cba93a15-ade1-49bf-bdce-2d7b24151bff",
   "metadata": {},
   "outputs": [
    {
     "data": {
      "text/plain": [
       "['Gorgeous screen', 'Insane camera', 'Solid battery life']"
      ]
     },
     "execution_count": 16,
     "metadata": {},
     "output_type": "execute_result"
    }
   ],
   "source": [
    "output.pros"
   ]
  },
  {
   "cell_type": "markdown",
   "id": "42134a39-83ad-4936-ae47-445afac5d2a7",
   "metadata": {},
   "source": [
    "## Prompt Template"
   ]
  },
  {
   "cell_type": "code",
   "execution_count": 17,
   "id": "42c93412-b0be-444c-9669-79c43394bf1f",
   "metadata": {},
   "outputs": [
    {
     "name": "stdout",
     "output_type": "stream",
     "text": [
      "Why do programmers prefer dark mode?\n",
      "\n",
      "Because light attracts bugs!\n"
     ]
    }
   ],
   "source": [
    "from langchain_core.prompts import ChatPromptTemplate\n",
    "\n",
    "prompt = ChatPromptTemplate.from_template(\"Tell me a short joke about {topic}\")\n",
    "chain = prompt | llm | output_parser\n",
    "result = chain.invoke({\"topic\": \"programming\"})\n",
    "print(result)\n"
   ]
  },
  {
   "cell_type": "markdown",
   "id": "355d8cb6-30c2-4c4b-b37f-0d76a3945729",
   "metadata": {},
   "source": [
    "## LLM Messages"
   ]
  },
  {
   "cell_type": "code",
   "execution_count": 18,
   "id": "2de1c8c5-48cb-498c-a4f6-7a475730de14",
   "metadata": {},
   "outputs": [
    {
     "name": "stdout",
     "output_type": "stream",
     "text": [
      "Alright, here's a programming joke for you:\n",
      "\n",
      "> Why do programmers prefer dark mode?\n",
      ">\n",
      "> Because light attracts bugs!\n",
      "\n",
      "Want to hear another one? Or maybe you'd like some actual information about programming? I can do both! Just let me know.\n"
     ]
    }
   ],
   "source": [
    "from langchain_core.messages import HumanMessage, SystemMessage\n",
    "\n",
    "messages = [\n",
    "    SystemMessage(content=\"You are a helpful assistant that tells jokes.\"),\n",
    "    HumanMessage(content=\"Tell me about programming\")\n",
    "]\n",
    "response = llm.invoke(messages)\n",
    "print(response.content)\n"
   ]
  },
  {
   "cell_type": "code",
   "execution_count": 19,
   "id": "479bc6a3-3e99-4e04-960a-e684cb26f553",
   "metadata": {},
   "outputs": [
    {
     "name": "stdout",
     "output_type": "stream",
     "text": [
      "Alright, buckle up, buttercup, because here comes some car-related humor!\n",
      "\n",
      "*   Why did the bicycle fall over? Because it was two tired! (Okay, not strictly cars, but close enough, right?)\n",
      "\n",
      "*   What do you call a lazy kangaroo? Pouch potato! (Again, not cars, but imagine a kangaroo driving a car! Hilarious!)\n",
      "\n",
      "*   I just got a new car! It's a limited edition... it only comes in one color and it doesn't run.\n",
      "\n",
      "*   Why did the car get a flat tire? Because it was feeling deflated!\n",
      "\n",
      "*   I tried to explain to my friend how electricity works, but he wasn't getting it. I said, \"Watt's the problem?\"\n",
      "\n",
      "I hope those gave you a chuckle! Do you want to hear another one? Maybe something about a specific type of car?\n"
     ]
    }
   ],
   "source": [
    "\n",
    "template = ChatPromptTemplate([\n",
    "    (\"system\", \"You are a helpful assistant that tells jokes.\"),\n",
    "    (\"human\", \"Tell me about {topic}\")\n",
    "])\n",
    "chain = template | llm\n",
    "response = chain.invoke({\"topic\": \"cars\"})\n",
    "print(response.content)\n"
   ]
  },
  {
   "cell_type": "markdown",
   "id": "aea7c285-aac3-4060-8eb1-36372bb7056a",
   "metadata": {},
   "source": [
    "## Document Processing for RAG Systems"
   ]
  },
  {
   "cell_type": "markdown",
   "id": "88918845-7f3e-4462-9ad3-fc41a9d19afa",
   "metadata": {},
   "source": [
    "### 1. Loading Documents"
   ]
  },
  {
   "cell_type": "code",
   "execution_count": 20,
   "id": "f6ac7dde-978f-439e-8435-f091346034b2",
   "metadata": {},
   "outputs": [
    {
     "name": "stdout",
     "output_type": "stream",
     "text": [
      "Unsupported file type: .DS_Store\n",
      "Loaded 5 documents from the folder.\n"
     ]
    }
   ],
   "source": [
    "from langchain_community.document_loaders import PyPDFLoader, Docx2txtLoader\n",
    "from langchain_text_splitters import RecursiveCharacterTextSplitter\n",
    "from typing import List\n",
    "from langchain_core.documents import Document\n",
    "import os\n",
    "\n",
    "def load_documents(folder_path: str) -> List[Document]:\n",
    "    documents = []\n",
    "    for filename in os.listdir(folder_path):\n",
    "        file_path = os.path.join(folder_path, filename)\n",
    "        if filename.endswith('.pdf'):\n",
    "            loader = PyPDFLoader(file_path)\n",
    "        elif filename.endswith('.docx'):\n",
    "            loader = Docx2txtLoader(file_path)\n",
    "        else:\n",
    "            print(f\"Unsupported file type: {filename}\")\n",
    "            continue\n",
    "        documents.extend(loader.load())\n",
    "    return documents\n",
    "\n",
    "folder_path = \"contents/docs/\"\n",
    "documents = load_documents(folder_path)\n",
    "print(f\"Loaded {len(documents)} documents from the folder.\")\n"
   ]
  },
  {
   "cell_type": "markdown",
   "id": "b4da5129-ec3f-4227-9feb-e645614d5eed",
   "metadata": {},
   "source": [
    "### 2. Splitting Documents"
   ]
  },
  {
   "cell_type": "code",
   "execution_count": 21,
   "id": "9b819342-a692-4380-b229-f0accd983963",
   "metadata": {},
   "outputs": [
    {
     "name": "stdout",
     "output_type": "stream",
     "text": [
      "Split the documents into 49 chunks.\n"
     ]
    }
   ],
   "source": [
    "text_splitter = RecursiveCharacterTextSplitter(\n",
    "    chunk_size=1000,\n",
    "    chunk_overlap=200,\n",
    "    length_function=len\n",
    ")\n",
    "\n",
    "splits = text_splitter.split_documents(documents)\n",
    "print(f\"Split the documents into {len(splits)} chunks.\")\n"
   ]
  },
  {
   "cell_type": "markdown",
   "id": "06b7ebd7-f259-4418-8d53-ea41c0950c40",
   "metadata": {},
   "source": [
    "### 3. Creating google genAi Embeddings for RAG Systems"
   ]
  },
  {
   "cell_type": "code",
   "execution_count": 22,
   "id": "e4c027b2-1eb5-446c-b376-4de7df13643b",
   "metadata": {},
   "outputs": [
    {
     "name": "stdout",
     "output_type": "stream",
     "text": [
      "Created embeddings for 49 document chunks.\n"
     ]
    }
   ],
   "source": [
    "from langchain_google_genai import GoogleGenerativeAIEmbeddings\n",
    "\n",
    "embedding_function = GoogleGenerativeAIEmbeddings(model=\"models/gemini-embedding-001\")\n",
    "document_embeddings = embedding_function.embed_documents([split.page_content for split in splits])\n",
    "print(f\"Created embeddings for {len(document_embeddings)} document chunks.\")"
   ]
  },
  {
   "cell_type": "markdown",
   "id": "fab1d142-5b93-4ca2-8feb-9f7af8fbafab",
   "metadata": {},
   "source": [
    "## Vector Store for RAG system"
   ]
  },
  {
   "cell_type": "code",
   "execution_count": 23,
   "id": "5a73b682-e1f8-48c6-b2ed-e91b73ebe9c7",
   "metadata": {},
   "outputs": [
    {
     "name": "stdout",
     "output_type": "stream",
     "text": [
      "Vector store created and persisted to './chroma_db'\n"
     ]
    }
   ],
   "source": [
    "from langchain_chroma import Chroma\n",
    "\n",
    "collection_name = \"my_collection\"\n",
    "vectorstore = Chroma.from_documents(\n",
    "    collection_name=collection_name,\n",
    "    documents=splits,\n",
    "    embedding=embedding_function,\n",
    "    persist_directory=\"./chroma_db\"\n",
    ")\n",
    "print(\"Vector store created and persisted to './chroma_db'\")\n"
   ]
  },
  {
   "cell_type": "markdown",
   "id": "f455e096-87ab-45ca-8750-896e169d6a0d",
   "metadata": {},
   "source": [
    "## Performing similarity Search"
   ]
  },
  {
   "cell_type": "code",
   "execution_count": 24,
   "id": "bbf47bf3-55f3-43d5-801d-faaedc27d19c",
   "metadata": {},
   "outputs": [
    {
     "name": "stdout",
     "output_type": "stream",
     "text": [
      "\n",
      "Top 2 most relevant chunks for the query: 'What are the types of cars'\n",
      "\n",
      "Result 1:\n",
      "Source: contents/docs/Types_of_Cars.docx\n",
      "Content: Types of Cars\n",
      "\n",
      "Cars can be categorized by body style. Sedans are four-door vehicles offering comfort and practicality. Coupes are sportier, while hatchbacks provide flexible cargo space. SUVs dominate global markets for their size and versatility. Convertibles emphasize style and leisure, and trucks are valued for utility and towing capabilities.\n",
      "\n",
      "Fuel type also defines vehicles. Gasoline cars remain common due to infrastructure. Diesel engines provide torque and efficiency, especially for trucks. Hybrids combine combustion engines with electric motors to balance efficiency. Electric vehicles are gaining adoption, offering zero tailpipe emissions. Hydrogen fuel cell cars, though rare, represent another pathway.\n",
      "\n",
      "Result 2:\n",
      "Source: contents/docs/Types_of_Cars.docx\n",
      "Content: Types of Cars\n",
      "\n",
      "Cars can be categorized by body style. Sedans are four-door vehicles offering comfort and practicality. Coupes are sportier, while hatchbacks provide flexible cargo space. SUVs dominate global markets for their size and versatility. Convertibles emphasize style and leisure, and trucks are valued for utility and towing capabilities.\n",
      "\n",
      "Fuel type also defines vehicles. Gasoline cars remain common due to infrastructure. Diesel engines provide torque and efficiency, especially for trucks. Hybrids combine combustion engines with electric motors to balance efficiency. Electric vehicles are gaining adoption, offering zero tailpipe emissions. Hydrogen fuel cell cars, though rare, represent another pathway.\n",
      "\n"
     ]
    }
   ],
   "source": [
    "query = \"What are the types of cars\"\n",
    "search_results = vectorstore.similarity_search(query, k=2)\n",
    "print(f\"\\nTop 2 most relevant chunks for the query: '{query}'\\n\")\n",
    "for i, result in enumerate(search_results, 1):\n",
    "    print(f\"Result {i}:\")\n",
    "    print(f\"Source: {result.metadata.get('source', 'Unknown')}\")\n",
    "    print(f\"Content: {result.page_content}\")\n",
    "    print()\n"
   ]
  },
  {
   "cell_type": "markdown",
   "id": "a694518c-8562-49d1-9ee0-b576c55ddf74",
   "metadata": {},
   "source": [
    "### Creating a Retriever"
   ]
  },
  {
   "cell_type": "code",
   "execution_count": 25,
   "id": "365ee625-a319-45e5-b07a-f45eb57322e1",
   "metadata": {},
   "outputs": [
    {
     "name": "stdout",
     "output_type": "stream",
     "text": [
      "[Document(id='75593228-0a8e-4284-bf5c-dd6334807874', metadata={'source': 'contents/docs/Types_of_Cars.docx'}, page_content='Types of Cars\\n\\nCars can be categorized by body style. Sedans are four-door vehicles offering comfort and practicality. Coupes are sportier, while hatchbacks provide flexible cargo space. SUVs dominate global markets for their size and versatility. Convertibles emphasize style and leisure, and trucks are valued for utility and towing capabilities.\\n\\nFuel type also defines vehicles. Gasoline cars remain common due to infrastructure. Diesel engines provide torque and efficiency, especially for trucks. Hybrids combine combustion engines with electric motors to balance efficiency. Electric vehicles are gaining adoption, offering zero tailpipe emissions. Hydrogen fuel cell cars, though rare, represent another pathway.'), Document(id='09acf294-e3cf-45bb-a191-3cca7c5c4ffe', metadata={'source': 'contents/docs/Types_of_Cars.docx'}, page_content='Types of Cars\\n\\nCars can be categorized by body style. Sedans are four-door vehicles offering comfort and practicality. Coupes are sportier, while hatchbacks provide flexible cargo space. SUVs dominate global markets for their size and versatility. Convertibles emphasize style and leisure, and trucks are valued for utility and towing capabilities.\\n\\nFuel type also defines vehicles. Gasoline cars remain common due to infrastructure. Diesel engines provide torque and efficiency, especially for trucks. Hybrids combine combustion engines with electric motors to balance efficiency. Electric vehicles are gaining adoption, offering zero tailpipe emissions. Hydrogen fuel cell cars, though rare, represent another pathway.')]\n"
     ]
    }
   ],
   "source": [
    "retriever = vectorstore.as_retriever(search_kwargs={\"k\": 2})\n",
    "retriever_results = retriever.invoke(\"What are the types of cars\")\n",
    "print(retriever_results)\n"
   ]
  },
  {
   "cell_type": "markdown",
   "id": "d56681ef-86ea-4977-aa30-2f51562c5dbf",
   "metadata": {},
   "source": [
    "## Building a RAG Chain"
   ]
  },
  {
   "cell_type": "code",
   "execution_count": 26,
   "id": "0e6ac4bc-3aa3-4594-b281-6ef0033cf841",
   "metadata": {},
   "outputs": [],
   "source": [
    "from langchain_core.prompts import ChatPromptTemplate\n",
    "from langchain.schema.runnable import RunnablePassthrough\n",
    "from langchain_core.output_parsers import StrOutputParser\n",
    "\n",
    "template = \"\"\"Answer the question based only on the following context:\n",
    "{context}\n",
    "Question: {question}\n",
    "Answer: \"\"\"\n",
    "\n",
    "prompt = ChatPromptTemplate.from_template(template)\n",
    "\n",
    "def docs2str(docs):\n",
    "    return \"\\n\\n\".join(doc.page_content for doc in docs)\n",
    "\n",
    "rag_chain = (\n",
    "    {\"context\": retriever | docs2str, \"question\": RunnablePassthrough()}\n",
    "    | prompt\n",
    "    | llm\n",
    "    | StrOutputParser()\n",
    ")\n"
   ]
  },
  {
   "cell_type": "markdown",
   "id": "0058f25a-cd56-40ef-b5a5-faeef7c84d9c",
   "metadata": {},
   "source": [
    "## Using RAG Chain"
   ]
  },
  {
   "cell_type": "code",
   "execution_count": 27,
   "id": "df77c40b-8844-4fea-a8c7-fd8243bc468b",
   "metadata": {},
   "outputs": [
    {
     "name": "stdout",
     "output_type": "stream",
     "text": [
      "Question: What are the types of cars?\n",
      "Answer: Cars can be categorized by body style (Sedans, Coupes, Hatchbacks, SUVs, Convertibles, and Trucks) and fuel type (Gasoline, Diesel, Hybrids, Electric, and Hydrogen fuel cell).\n"
     ]
    }
   ],
   "source": [
    "question = \"What are the types of cars?\"\n",
    "response = rag_chain.invoke(question)\n",
    "print(f\"Question: {question}\")\n",
    "print(f\"Answer: {response}\")\n"
   ]
  },
  {
   "cell_type": "markdown",
   "id": "d5b3438b-5503-420c-a11f-59dfc78a391b",
   "metadata": {},
   "source": [
    "# Conversational RAG "
   ]
  },
  {
   "cell_type": "markdown",
   "id": "9538952b-63d9-4896-9e0b-c87fdf1d1da0",
   "metadata": {},
   "source": [
    "## Handling Follow-Up Questions"
   ]
  },
  {
   "cell_type": "code",
   "execution_count": 28,
   "id": "03bb5a9d-43e8-4e34-8177-ca20e9dd5550",
   "metadata": {},
   "outputs": [
    {
     "name": "stdout",
     "output_type": "stream",
     "text": [
      "What are the strengths and weaknesses of the thing we are discussing?\n"
     ]
    }
   ],
   "source": [
    "from langchain_core.prompts import MessagesPlaceholder\n",
    "from langchain.chains import create_history_aware_retriever\n",
    "from langchain.chains.combine_documents import create_stuff_documents_chain\n",
    "from langchain.chains import create_retrieval_chain\n",
    "\n",
    "\n",
    "contextualize_q_system_prompt = \"\"\"\n",
    "Given a chat history and the latest user question\n",
    "which might reference context in the chat history,\n",
    "formulate a standalone question which can be understood\n",
    "without the chat history. Do NOT answer the question,\n",
    "just reformulate it if needed and otherwise return it as is.\n",
    "\"\"\"\n",
    "\n",
    "contextualize_q_prompt = ChatPromptTemplate.from_messages(\n",
    "    [\n",
    "        (\"system\", contextualize_q_system_prompt),\n",
    "        MessagesPlaceholder(\"chat_history\"),\n",
    "        (\"human\", \"{input}\"),\n",
    "    ]\n",
    ")\n",
    "\n",
    "contextualize_chain = contextualize_q_prompt | llm | StrOutputParser()\n",
    "print(contextualize_chain.invoke({\"input\": \"Tell its strengths and weaknesses\", \"chat_history\": []}))\n"
   ]
  },
  {
   "cell_type": "code",
   "execution_count": 29,
   "id": "783832db-268d-4b34-a95d-fe5cea7da860",
   "metadata": {},
   "outputs": [],
   "source": [
    "history_aware_retriever = create_history_aware_retriever(\n",
    "    llm, retriever, contextualize_q_prompt\n",
    ")\n",
    "\n",
    "qa_prompt = ChatPromptTemplate.from_messages([\n",
    "    (\"system\", \"You are a helpful AI assistant. Use the following context to answer the user's question.\"),\n",
    "    (\"system\", \"Context: {context}\"),\n",
    "    MessagesPlaceholder(variable_name=\"chat_history\"),\n",
    "    (\"human\", \"{input}\")\n",
    "])\n",
    "\n",
    "question_answer_chain = create_stuff_documents_chain(llm, qa_prompt)\n",
    "rag_chain = create_retrieval_chain(history_aware_retriever, question_answer_chain)\n"
   ]
  },
  {
   "cell_type": "code",
   "execution_count": 30,
   "id": "5acbc706-8de2-4124-b3af-2b4590955307",
   "metadata": {},
   "outputs": [
    {
     "name": "stdout",
     "output_type": "stream",
     "text": [
      "Human: What are the types of cars?\n",
      "AI: Cars can be categorized by body style, such as sedans, coupes, hatchbacks, SUVs, convertibles, and trucks. They can also be defined by fuel type, including gasoline, diesel, hybrid, electric, and hydrogen fuel cell cars.\n",
      "\n"
     ]
    }
   ],
   "source": [
    "from langchain_core.messages import HumanMessage, AIMessage\n",
    "\n",
    "chat_history = []\n",
    "question1 = \"What are the types of cars?\"\n",
    "answer1 = rag_chain.invoke({\"input\": question1, \"chat_history\": chat_history})['answer']\n",
    "chat_history.extend([\n",
    "    HumanMessage(content=question1),\n",
    "    AIMessage(content=answer1)\n",
    "])\n",
    "\n",
    "print(f\"Human: {question1}\")\n",
    "print(f\"AI: {answer1}\\n\")\n"
   ]
  },
  {
   "cell_type": "code",
   "execution_count": 31,
   "id": "ed85bb22-60c9-4daf-a71c-716328209003",
   "metadata": {},
   "outputs": [
    {
     "name": "stdout",
     "output_type": "stream",
     "text": [
      "Human: Tell its strengths and weaknesses\n",
      "AI: Okay, here's a breakdown of the strengths and weaknesses of the car types mentioned in the context:\n",
      "\n",
      "**Body Styles:**\n",
      "\n",
      "*   **Sedans:**\n",
      "    *   **Strengths:** Comfortable, practical, good for families, generally fuel-efficient.\n",
      "    *   **Weaknesses:** Can lack cargo space compared to other body styles, not as sporty as coupes.\n",
      "*   **Coupes:**\n",
      "    *   **Strengths:** Sporty styling, often better handling than sedans.\n",
      "    *   **Weaknesses:** Less practical than sedans, limited rear passenger space, smaller cargo area.\n",
      "*   **Hatchbacks:**\n",
      "    *   **Strengths:** Flexible cargo space, practical, often fuel-efficient, can be sporty.\n",
      "    *   **Weaknesses:** Styling can be polarizing.\n",
      "*   **SUVs:**\n",
      "    *   **Strengths:** Spacious, versatile, good for families, often have all-wheel drive, high driving position.\n",
      "    *   **Weaknesses:** Can be less fuel-efficient than smaller cars, can be more expensive, can be harder to park.\n",
      "*   **Convertibles:**\n",
      "    *   **Strengths:** Stylish, fun to drive, open-air experience.\n",
      "    *   **Weaknesses:** Less practical, limited cargo space, can be noisy, less secure.\n",
      "*   **Trucks:**\n",
      "    *   **Strengths:** High utility, excellent towing capacity, good for hauling cargo.\n",
      "    *   **Weaknesses:** Can be large and difficult to maneuver, fuel economy is typically poor.\n",
      "\n",
      "**Fuel Types:**\n",
      "\n",
      "*   **Gasoline Cars:**\n",
      "    *   **Strengths:** Established infrastructure, relatively inexpensive to purchase (compared to EVs), wide range of options.\n",
      "    *   **Weaknesses:** Emissions contribute to air pollution, fuel costs can fluctuate.\n",
      "*   **Diesel Cars:**\n",
      "    *   **Strengths:** Good torque (especially for trucks), fuel efficiency (especially on the highway).\n",
      "    *   **Weaknesses:** Higher initial cost, emissions concerns (particulate matter, NOx), can be noisy.\n",
      "*   **Hybrid Cars:**\n",
      "    *   **Strengths:** Better fuel economy than gasoline cars, reduced emissions, regenerative braking.\n",
      "    *   **Weaknesses:** More complex technology, can be more expensive than gasoline cars, battery replacement costs.\n",
      "*   **Electric Vehicles (EVs):**\n",
      "    *   **Strengths:** Zero tailpipe emissions, lower running costs (electricity vs. gasoline), quiet operation, instant torque.\n",
      "    *   **Weaknesses:** Limited range, long charging times, charging infrastructure is still developing, higher purchase price.\n",
      "*   **Hydrogen Fuel Cell Cars:**\n",
      "    *   **Strengths:** Zero emissions, quick refueling (compared to EVs).\n",
      "    *   **Weaknesses:** Very limited infrastructure, high cost, hydrogen production and storage challenges.\n"
     ]
    }
   ],
   "source": [
    "\n",
    "question2 = \"Tell its strengths and weaknesses\"\n",
    "answer2 = rag_chain.invoke({\"input\": question2, \"chat_history\": chat_history})['answer']\n",
    "chat_history.extend([\n",
    "    HumanMessage(content=question2),\n",
    "    AIMessage(content=answer2)\n",
    "])\n",
    "\n",
    "print(f\"Human: {question2}\")\n",
    "print(f\"AI: {answer2.remove(\"**\")}\")\n"
   ]
  },
  {
   "cell_type": "code",
   "execution_count": 33,
   "id": "d03057f0-3b7b-4513-b30a-ea74522d62b8",
   "metadata": {},
   "outputs": [
    {
     "ename": "SyntaxError",
     "evalue": "unterminated string literal (detected at line 1) (1559491492.py, line 1)",
     "output_type": "error",
     "traceback": [
      "\u001b[0;36m  Cell \u001b[0;32mIn[33], line 1\u001b[0;36m\u001b[0m\n\u001b[0;31m    print(f\"AI: {answer2.remove(\"**\")})\u001b[0m\n\u001b[0m                                   ^\u001b[0m\n\u001b[0;31mSyntaxError\u001b[0m\u001b[0;31m:\u001b[0m unterminated string literal (detected at line 1)\n"
     ]
    }
   ],
   "source": [
    "print(f\"AI: {answer2.remove(\"**\")})"
   ]
  }
 ],
 "metadata": {
  "kernelspec": {
   "display_name": "Python 3 (ipykernel)",
   "language": "python",
   "name": "python3"
  },
  "language_info": {
   "codemirror_mode": {
    "name": "ipython",
    "version": 3
   },
   "file_extension": ".py",
   "mimetype": "text/x-python",
   "name": "python",
   "nbconvert_exporter": "python",
   "pygments_lexer": "ipython3",
   "version": "3.11.8"
  }
 },
 "nbformat": 4,
 "nbformat_minor": 5
}
